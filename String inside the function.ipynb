{
 "cells": [
  {
   "cell_type": "code",
   "execution_count": 1,
   "id": "23ef2b3b",
   "metadata": {},
   "outputs": [
    {
     "name": "stdout",
     "output_type": "stream",
     "text": [
      "1234abcd\n",
      "The given string :  1234abcd\n",
      "The expected output :  dcba4321\n"
     ]
    }
   ],
   "source": [
    "string = input()\n",
    "def reverse(string):\n",
    "    x = \"\"\n",
    "    for i in string:\n",
    "        x = i + x\n",
    "    return x\n",
    "print(\"The given string : \",string)\n",
    "print(\"The expected output : \",reverse(string))"
   ]
  }
 ],
 "metadata": {
  "kernelspec": {
   "display_name": "Python 3 (ipykernel)",
   "language": "python",
   "name": "python3"
  },
  "language_info": {
   "codemirror_mode": {
    "name": "ipython",
    "version": 3
   },
   "file_extension": ".py",
   "mimetype": "text/x-python",
   "name": "python",
   "nbconvert_exporter": "python",
   "pygments_lexer": "ipython3",
   "version": "3.10.4"
  }
 },
 "nbformat": 4,
 "nbformat_minor": 5
}
